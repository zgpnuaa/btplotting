{
 "cells": [
  {
   "cell_type": "code",
   "execution_count": 4,
   "id": "86cafcda",
   "metadata": {
    "ExecuteTime": {
     "end_time": "2023-06-16T10:07:06.726976Z",
     "start_time": "2023-06-16T10:06:56.842800Z"
    },
    "scrolled": true
   },
   "outputs": [
    {
     "name": "stdout",
     "output_type": "stream",
     "text": [
      "Collecting requests-toolbelt\n",
      "  Downloading requests_toolbelt-1.0.0-py2.py3-none-any.whl (54 kB)\n",
      "     -------------------------------------- 54.5/54.5 kB 353.9 kB/s eta 0:00:00\n",
      "Requirement already satisfied: requests<3.0.0,>=2.0.1 in d:\\vscodeprojects\\btplotting\\venv_310\\lib\\site-packages (from requests-toolbelt) (2.28.2)\n",
      "Requirement already satisfied: certifi>=2017.4.17 in d:\\vscodeprojects\\btplotting\\venv_310\\lib\\site-packages (from requests<3.0.0,>=2.0.1->requests-toolbelt) (2022.12.7)\n",
      "Requirement already satisfied: charset-normalizer<4,>=2 in d:\\vscodeprojects\\btplotting\\venv_310\\lib\\site-packages (from requests<3.0.0,>=2.0.1->requests-toolbelt) (3.1.0)\n",
      "Requirement already satisfied: urllib3<1.27,>=1.21.1 in d:\\vscodeprojects\\btplotting\\venv_310\\lib\\site-packages (from requests<3.0.0,>=2.0.1->requests-toolbelt) (1.26.15)\n",
      "Requirement already satisfied: idna<4,>=2.5 in d:\\vscodeprojects\\btplotting\\venv_310\\lib\\site-packages (from requests<3.0.0,>=2.0.1->requests-toolbelt) (3.4)\n",
      "Installing collected packages: requests-toolbelt\n",
      "Successfully installed requests-toolbelt-1.0.0\n"
     ]
    },
    {
     "name": "stderr",
     "output_type": "stream",
     "text": [
      "\n",
      "[notice] A new release of pip available: 22.3.1 -> 23.1.2\n",
      "[notice] To update, run: python.exe -m pip install --upgrade pip\n"
     ]
    }
   ],
   "source": [
    "!pip install requests-toolbelt"
   ]
  },
  {
   "cell_type": "code",
   "execution_count": 5,
   "id": "cc6310f1",
   "metadata": {
    "ExecuteTime": {
     "end_time": "2023-06-16T10:07:35.711129Z",
     "start_time": "2023-06-16T10:07:21.426531Z"
    }
   },
   "outputs": [
    {
     "name": "stdout",
     "output_type": "stream",
     "text": [
      "Requirement already satisfied: pip in d:\\vscodeprojects\\btplotting\\venv_310\\lib\\site-packages (22.3.1)\n",
      "Collecting pip\n",
      "  Downloading pip-23.1.2-py3-none-any.whl (2.1 MB)\n",
      "     ---------------------------------------- 2.1/2.1 MB 782.6 kB/s eta 0:00:00\n",
      "Installing collected packages: pip\n",
      "  Attempting uninstall: pip\n",
      "    Found existing installation: pip 22.3.1\n",
      "    Uninstalling pip-22.3.1:\n",
      "      Successfully uninstalled pip-22.3.1\n",
      "Successfully installed pip-23.1.2\n"
     ]
    }
   ],
   "source": [
    "!python.exe -m pip install --upgrade pip"
   ]
  },
  {
   "cell_type": "code",
   "execution_count": 8,
   "id": "773ad750",
   "metadata": {
    "ExecuteTime": {
     "end_time": "2023-06-16T10:08:44.755747Z",
     "start_time": "2023-06-16T10:08:43.931051Z"
    }
   },
   "outputs": [
    {
     "name": "stdout",
     "output_type": "stream",
     "text": [
      "send to ZhuGaoPing ok\n"
     ]
    }
   ],
   "source": [
    "#-*- encoding:utf-8 -*-\n",
    "import requests\n",
    "import json\n",
    "from requests_toolbelt import MultipartEncoder\n",
    "\n",
    "class qywx:\n",
    "    corpid = 'wwdb706c66c9567107' #步骤1-3中的企业id\n",
    "    # 此处将步骤1-2中的AgentId 和 Secret分别填入，多个应用逗号隔开\n",
    "    app_list = [\n",
    "        (1000003, 'RL8K0UDfGz0O0YqzFeJcp0gCNyl4kGc607FEmN0Yg64'), # QMTTest(需设置企业可信IP)\n",
    "        (1000002, 'JQ37HXmcASXMNePoXh1KoqCiFG4k4Zq4MxuZ46mK_ow'), # QuantRobot\n",
    "        ]\n",
    "\n",
    "    def __init__(self, app_id):  #app_id 按app_list顺序编号\n",
    "        self.agentid, self.corpsecret = qywx.app_list[app_id]\n",
    "\n",
    "    # 上传临时文件素材接口，图片也可使用此接口，20M上限\n",
    "    def post_file(self, filepath, filename):\n",
    "        response = requests.get(\"https://qyapi.weixin.qq.com/cgi-bin/gettoken?corpid={corpid}&corpsecret={corpsecret}\".format(corpid=qywx.corpid, corpsecret=self.corpsecret))\n",
    "        data = json.loads(response.text)\n",
    "        access_token = data['access_token']\n",
    "\n",
    "        post_file_url = \"https://qyapi.weixin.qq.com/cgi-bin/media/upload?access_token={access_token}&type=file\".format(access_token=access_token)\n",
    "\n",
    "        m = MultipartEncoder(\n",
    "            fields={'file': (filename, open(filepath + filename, 'rb'), 'multipart/form-data')},\n",
    "        )\n",
    "        \n",
    "        r = requests.post(url=post_file_url, data=m, headers={'Content-Type': m.content_type})\n",
    "        js = json.loads(r.text) \n",
    "        print(\"upload \" + js['errmsg'])\n",
    "        if js['errmsg'] != 'ok':\n",
    "            return None\n",
    "        return js['media_id']\n",
    "        \n",
    "    # 向应用发送图片接口，_message为上传临时素材后返回的media_id\n",
    "    def send_img(self, _message, useridlist = ['name1|name2']): \n",
    "        useridstr = \"|\".join(useridlist)\n",
    "        response = requests.get(\"https://qyapi.weixin.qq.com/cgi-bin/gettoken?corpid={corpid}&corpsecret={corpsecret}\".format(corpid=qywx.corpid, corpsecret=self.corpsecret))\n",
    "        data = json.loads(response.text)\n",
    "        access_token = data['access_token']\n",
    "\n",
    "        json_dict = {\n",
    "            \"touser\" : useridstr,\n",
    "            \"msgtype\" : \"image\",\n",
    "            \"agentid\" : self.agentid,\n",
    "            \"image\" : { \n",
    "                \"media_id\" : _message,\n",
    "            },\n",
    "            \"safe\": 0,\n",
    "            \"enable_id_trans\": 1,\n",
    "            \"enable_duplicate_check\": 0,\n",
    "            \"duplicate_check_interval\": 1800\n",
    "        }\n",
    "        json_str = json.dumps(json_dict)\n",
    "        response_send = requests.post(\"https://qyapi.weixin.qq.com/cgi-bin/message/send?access_token={access_token}\".format(access_token=access_token), data=json_str)\n",
    "        print(\"send to \" + useridstr + ' ' + json.loads(response_send.text)['errmsg'])\n",
    "        return json.loads(response_send.text)['errmsg'] == 'ok'\n",
    "\n",
    "    # 向应用发送文字消息接口，_message为字符串\n",
    "    def send_text(self, _message, useridlist = ['name1|name2']): \n",
    "        useridstr = \"|\".join(useridlist) # userid 在企业微信-通讯录-成员-账号\n",
    "        response = requests.get(\"https://qyapi.weixin.qq.com/cgi-bin/gettoken?corpid={corpid}&corpsecret={corpsecret}\".format(corpid=qywx.corpid, corpsecret=self.corpsecret))\n",
    "        data = json.loads(response.text)\n",
    "        access_token = data['access_token']\n",
    "        json_dict = {\n",
    "            \"touser\" : useridstr,\n",
    "            \"msgtype\" : \"text\",\n",
    "            \"agentid\" : self.agentid,\n",
    "            \"text\" : {\n",
    "                \"content\" : _message\n",
    "            },\n",
    "            \"safe\": 0,\n",
    "            \"enable_id_trans\": 1,\n",
    "            \"enable_duplicate_check\": 0,\n",
    "            \"duplicate_check_interval\": 1800\n",
    "        }\n",
    "        json_str = json.dumps(json_dict)\n",
    "        response_send = requests.post(\"https://qyapi.weixin.qq.com/cgi-bin/message/send?access_token={access_token}\".format(access_token=access_token), data=json_str)\n",
    "        print(\"send to \" + useridstr + ' ' + json.loads(response_send.text)['errmsg'])\n",
    "        return json.loads(response_send.text)['errmsg'] == 'ok'\n",
    "# 调用示例\n",
    "if __name__ == '__main__':\n",
    "    qy = qywx(1)\n",
    "    \n",
    "    # 发送文本消息\n",
    "    qy.send_text('hello world', ['ZhuGaoPing'])\n",
    "    \n",
    "    # 发送图片消息, 需先上传至临时素材\n",
    "#     media_id = qy.post_file('/root/', 'a.jpg')\n",
    "#     qy.send_img(media_id, ['ZhuGaoPing'])"
   ]
  }
 ],
 "metadata": {
  "kernelspec": {
   "display_name": "venv_tbploting",
   "language": "python",
   "name": "venv_tbploting"
  },
  "language_info": {
   "codemirror_mode": {
    "name": "ipython",
    "version": 3
   },
   "file_extension": ".py",
   "mimetype": "text/x-python",
   "name": "python",
   "nbconvert_exporter": "python",
   "pygments_lexer": "ipython3",
   "version": "3.10.10"
  },
  "toc": {
   "base_numbering": 1,
   "nav_menu": {},
   "number_sections": true,
   "sideBar": true,
   "skip_h1_title": false,
   "title_cell": "Table of Contents",
   "title_sidebar": "Contents",
   "toc_cell": false,
   "toc_position": {},
   "toc_section_display": true,
   "toc_window_display": false
  }
 },
 "nbformat": 4,
 "nbformat_minor": 5
}
