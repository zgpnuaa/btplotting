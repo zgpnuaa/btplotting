{
 "cells": [
  {
   "cell_type": "code",
   "execution_count": 2,
   "id": "c938b0d7",
   "metadata": {
    "ExecuteTime": {
     "end_time": "2023-07-07T02:30:36.738095Z",
     "start_time": "2023-07-07T02:30:35.019300Z"
    }
   },
   "outputs": [
    {
     "name": "stderr",
     "output_type": "stream",
     "text": [
      "                                                                                                                                           "
     ]
    },
    {
     "name": "stdout",
     "output_type": "stream",
     "text": [
      "       symbol  name    trade pricechange changepercent      buy     sell  \\\n",
      "0    sh110043  无锡转债  109.892       0.951         0.873  109.857  109.911   \n",
      "1    sh110044  广电转债  201.100      -0.783        -0.388  201.102  201.179   \n",
      "2    sh110045  海澜转债  125.928       0.418         0.333  125.896  125.967   \n",
      "3    sh110047  山鹰转债  113.545       0.098         0.086  113.544  113.560   \n",
      "4    sh110048  福能转债  179.031      -0.075        -0.042  179.032  179.116   \n",
      "..        ...   ...      ...         ...           ...      ...      ...   \n",
      "505  sz128140  润建转债  183.046      -5.669        -3.004  182.905  183.155   \n",
      "506  sz128141  旺能转债  123.465       0.058         0.047  123.517  123.571   \n",
      "507  sz128142  新乳转债  121.079      -0.108        -0.089  121.031  121.132   \n",
      "508  sz128143  锋龙转债  129.091      -1.219        -0.935  129.117  129.149   \n",
      "509  sz128144  利民转债  115.170       0.000         0.000  115.146  115.217   \n",
      "\n",
      "    settlement     open     high      low  volume     amount    code  ticktime  \n",
      "0      108.941  108.701  109.940  108.701  101600   11125091  110043  10:30:24  \n",
      "1      201.883  201.605  201.885  200.121   51560   10363085  110044  10:30:24  \n",
      "2      125.510  125.643  126.438  125.163  177720   22359765  110045  10:30:21  \n",
      "3      113.447  113.427  113.800  113.427   71070    8073841  110047  10:30:25  \n",
      "4      179.106  178.300  180.270  178.300   44590    8001930  110048  10:30:25  \n",
      "..         ...      ...      ...      ...     ...        ...     ...       ...  \n",
      "505    188.715  188.216  188.830  182.504  286440   52894350  128140  10:30:24  \n",
      "506    123.407  123.407  123.752  123.173   41386    5110860  128141  10:30:09  \n",
      "507    121.187  121.010  121.396  120.918    7300     884270  128142  10:29:24  \n",
      "508    130.310  130.300  134.265  128.900  989180  129471486  128143  10:30:24  \n",
      "509    115.170  115.120  115.320  115.017    3650     420378  128144  10:30:24  \n",
      "\n",
      "[510 rows x 15 columns]\n"
     ]
    },
    {
     "name": "stderr",
     "output_type": "stream",
     "text": [
      "\r"
     ]
    }
   ],
   "source": [
    "import akshare as ak\n",
    "\n",
    "bond_zh_hs_cov_spot_df = ak.bond_zh_hs_cov_spot()\n",
    "print(bond_zh_hs_cov_spot_df)"
   ]
  },
  {
   "cell_type": "code",
   "execution_count": 10,
   "id": "b427d52e",
   "metadata": {
    "ExecuteTime": {
     "end_time": "2023-06-26T15:16:17.403276Z",
     "start_time": "2023-06-26T15:16:16.077532Z"
    }
   },
   "outputs": [
    {
     "name": "stderr",
     "output_type": "stream",
     "text": [
      "                                                                                                   "
     ]
    },
    {
     "name": "stdout",
     "output_type": "stream",
     "text": [
      "       债券代码   债券简称        申购日期    申购代码  申购上限    正股代码  正股简称    正股价    转股价  \\\n",
      "0    118036   力合转债  2023-06-28  718589   100  688589   力合微  41.99  43.78   \n",
      "1    123201   纽泰转债  2023-06-27  371229   100  301229   纽泰格  29.81  29.88   \n",
      "2    123200   海泰转债  2023-06-27  371022   100  301022   海泰科  27.40  26.69   \n",
      "3    111014   李子转债  2023-06-20  713337   100  605337   李子园  18.10  19.47   \n",
      "4    127087   星帅转2  2023-06-14  072860   100  002860   星帅尔  12.77  13.35   \n",
      "..      ...    ...         ...     ...   ...     ...   ...    ...    ...   \n",
      "825  110227   赤化转债  2007-10-10  733227   100  600227   圣济堂   2.73    NaN   \n",
      "826  126006  07深高债  2007-10-09  733548   100  600548   深高速   8.61    NaN   \n",
      "827  110971   恒源转债  2007-09-24  733971   100  600971  恒源煤电   7.35    NaN   \n",
      "828  110567   山鹰转债  2007-09-05  733567   100  600567  山鹰国际   2.22    NaN   \n",
      "829  110026   中海转债  2007-07-02  733026   100  600026  中远海能  12.40    NaN   \n",
      "\n",
      "         转股价值    债现价  转股溢价率 原股东配售-股权登记日  原股东配售-每股配售额       发行规模      中签号发布日  \\\n",
      "0     95.9114  100.0   4.26  2023-06-27       3.7920   3.800000  2023-06-30   \n",
      "1     99.7657  100.0   0.23  2023-06-26       4.3750   3.500000  2023-06-29   \n",
      "2    102.6602  100.0  -2.59  2023-06-26       4.7664   3.965716  2023-06-29   \n",
      "3     92.9635  100.0   7.57  2023-06-19       1.5210   6.000000  2023-06-26   \n",
      "4     95.6554  100.0   4.54  2023-06-13       1.5091   4.629000  2023-06-16   \n",
      "..        ...    ...    ...         ...          ...        ...         ...   \n",
      "825       NaN  100.0    NaN  2007-10-09       2.4000   4.500000  2007-10-16   \n",
      "826       NaN  100.0    NaN  2007-10-08       1.8000  15.000000  2007-10-15   \n",
      "827       NaN  100.0    NaN  2007-09-21       1.0000   4.000000  2007-09-28   \n",
      "828       NaN  100.0    NaN  2007-09-04       1.1000   4.700000  2007-09-11   \n",
      "829       NaN  100.0    NaN  2007-06-29       0.9000  20.000000  2007-07-06   \n",
      "\n",
      "          中签率        上市时间  \n",
      "0         NaN         NaN  \n",
      "1         NaN         NaN  \n",
      "2         NaN         NaN  \n",
      "3    0.000849         NaN  \n",
      "4    0.001146         NaN  \n",
      "..        ...         ...  \n",
      "825  0.158854  2007-10-23  \n",
      "826  0.290304  2007-10-30  \n",
      "827  5.311774  2007-10-12  \n",
      "828  0.496391  2007-09-17  \n",
      "829  1.333453  2007-07-12  \n",
      "\n",
      "[830 rows x 18 columns]\n"
     ]
    },
    {
     "name": "stderr",
     "output_type": "stream",
     "text": [
      "\r"
     ]
    }
   ],
   "source": [
    "import akshare as ak\n",
    "\n",
    "bond_zh_cov_df = ak.bond_zh_cov()\n",
    "print(bond_zh_cov_df)"
   ]
  },
  {
   "cell_type": "code",
   "execution_count": 6,
   "id": "85a0ba68",
   "metadata": {
    "ExecuteTime": {
     "end_time": "2023-06-26T15:14:33.817072Z",
     "start_time": "2023-06-26T15:14:25.959783Z"
    }
   },
   "outputs": [
    {
     "name": "stdout",
     "output_type": "stream",
     "text": [
      "Requirement already satisfied: akshare in d:\\vscodeprojects\\btplotting\\venv_310\\lib\\site-packages (1.9.62)\n",
      "Collecting akshare\n",
      "  Downloading akshare-1.10.37-py3-none-any.whl (1.0 MB)\n",
      "                                              0.0/1.0 MB ? eta -:--:--\n",
      "     -                                        0.0/1.0 MB 1.3 MB/s eta 0:00:01\n",
      "     --                                       0.1/1.0 MB 544.7 kB/s eta 0:00:02\n",
      "     ----                                     0.1/1.0 MB 930.9 kB/s eta 0:00:01\n",
      "     --------                                 0.2/1.0 MB 1.1 MB/s eta 0:00:01\n",
      "     ----------                               0.3/1.0 MB 1.2 MB/s eta 0:00:01\n",
      "     -------------------                      0.5/1.0 MB 1.8 MB/s eta 0:00:01\n",
      "     -----------------------------            0.7/1.0 MB 2.2 MB/s eta 0:00:01\n",
      "     ---------------------------------------- 1.0/1.0 MB 2.8 MB/s eta 0:00:00\n",
      "Requirement already satisfied: beautifulsoup4>=4.9.1 in d:\\vscodeprojects\\btplotting\\venv_310\\lib\\site-packages (from akshare) (4.12.2)\n",
      "Requirement already satisfied: lxml>=4.2.1 in d:\\vscodeprojects\\btplotting\\venv_310\\lib\\site-packages (from akshare) (4.9.2)\n",
      "Requirement already satisfied: pandas>=0.25 in d:\\vscodeprojects\\btplotting\\venv_310\\lib\\site-packages (from akshare) (1.5.3)\n",
      "Requirement already satisfied: requests>=2.22.0 in d:\\vscodeprojects\\btplotting\\venv_310\\lib\\site-packages (from akshare) (2.28.2)\n",
      "Requirement already satisfied: pypinyin>=0.35.0 in d:\\vscodeprojects\\btplotting\\venv_310\\lib\\site-packages (from akshare) (0.48.0)\n",
      "Requirement already satisfied: html5lib>=1.0.1 in d:\\vscodeprojects\\btplotting\\venv_310\\lib\\site-packages (from akshare) (1.1)\n",
      "Requirement already satisfied: xlrd>=1.2.0 in d:\\vscodeprojects\\btplotting\\venv_310\\lib\\site-packages (from akshare) (2.0.1)\n",
      "Requirement already satisfied: urllib3>=1.25.8 in d:\\vscodeprojects\\btplotting\\venv_310\\lib\\site-packages (from akshare) (1.26.15)\n",
      "Requirement already satisfied: tqdm>=4.43.0 in d:\\vscodeprojects\\btplotting\\venv_310\\lib\\site-packages (from akshare) (4.65.0)\n",
      "Requirement already satisfied: openpyxl>=3.0.3 in d:\\vscodeprojects\\btplotting\\venv_310\\lib\\site-packages (from akshare) (3.1.2)\n",
      "Requirement already satisfied: jsonpath>=0.82 in d:\\vscodeprojects\\btplotting\\venv_310\\lib\\site-packages (from akshare) (0.82)\n",
      "Requirement already satisfied: tabulate>=0.8.6 in d:\\vscodeprojects\\btplotting\\venv_310\\lib\\site-packages (from akshare) (0.9.0)\n",
      "Requirement already satisfied: decorator>=4.4.2 in d:\\vscodeprojects\\btplotting\\venv_310\\lib\\site-packages (from akshare) (5.1.1)\n",
      "Requirement already satisfied: py-mini-racer>=0.6.0 in d:\\vscodeprojects\\btplotting\\venv_310\\lib\\site-packages (from akshare) (0.6.0)\n",
      "Requirement already satisfied: soupsieve>1.2 in d:\\vscodeprojects\\btplotting\\venv_310\\lib\\site-packages (from beautifulsoup4>=4.9.1->akshare) (2.4.1)\n",
      "Requirement already satisfied: six>=1.9 in d:\\vscodeprojects\\btplotting\\venv_310\\lib\\site-packages (from html5lib>=1.0.1->akshare) (1.16.0)\n",
      "Requirement already satisfied: webencodings in d:\\vscodeprojects\\btplotting\\venv_310\\lib\\site-packages (from html5lib>=1.0.1->akshare) (0.5.1)\n",
      "Requirement already satisfied: et-xmlfile in d:\\vscodeprojects\\btplotting\\venv_310\\lib\\site-packages (from openpyxl>=3.0.3->akshare) (1.1.0)\n",
      "Requirement already satisfied: python-dateutil>=2.8.1 in d:\\vscodeprojects\\btplotting\\venv_310\\lib\\site-packages (from pandas>=0.25->akshare) (2.8.2)\n",
      "Requirement already satisfied: pytz>=2020.1 in d:\\vscodeprojects\\btplotting\\venv_310\\lib\\site-packages (from pandas>=0.25->akshare) (2023.3)\n",
      "Requirement already satisfied: numpy>=1.21.0 in d:\\vscodeprojects\\btplotting\\venv_310\\lib\\site-packages (from pandas>=0.25->akshare) (1.24.2)\n",
      "Requirement already satisfied: charset-normalizer<4,>=2 in d:\\vscodeprojects\\btplotting\\venv_310\\lib\\site-packages (from requests>=2.22.0->akshare) (3.1.0)\n",
      "Requirement already satisfied: idna<4,>=2.5 in d:\\vscodeprojects\\btplotting\\venv_310\\lib\\site-packages (from requests>=2.22.0->akshare) (3.4)\n",
      "Requirement already satisfied: certifi>=2017.4.17 in d:\\vscodeprojects\\btplotting\\venv_310\\lib\\site-packages (from requests>=2.22.0->akshare) (2022.12.7)\n",
      "Requirement already satisfied: colorama in d:\\vscodeprojects\\btplotting\\venv_310\\lib\\site-packages (from tqdm>=4.43.0->akshare) (0.4.6)\n",
      "Installing collected packages: akshare\n",
      "  Attempting uninstall: akshare\n",
      "    Found existing installation: akshare 1.9.62\n",
      "    Uninstalling akshare-1.9.62:\n",
      "      Successfully uninstalled akshare-1.9.62\n",
      "Successfully installed akshare-1.10.37\n"
     ]
    }
   ],
   "source": [
    "!pip install akshare -U"
   ]
  },
  {
   "cell_type": "code",
   "execution_count": 7,
   "id": "dd98cbbc",
   "metadata": {
    "ExecuteTime": {
     "end_time": "2023-06-26T15:14:42.609889Z",
     "start_time": "2023-06-26T15:14:42.457616Z"
    }
   },
   "outputs": [
    {
     "name": "stdout",
     "output_type": "stream",
     "text": [
      "  SECURITY_CODE   SECUCODE TRADE_MARKET SECURITY_NAME_ABBR DELIST_DATE  \\\n",
      "0        123121  123121.SZ       CNSESZ               帝尔转债        None   \n",
      "\n",
      "          LISTING_DATE CONVERT_STOCK_CODE BOND_EXPIRE RATING  \\\n",
      "0  2021-08-27 00:00:00             300776           6    AA-   \n",
      "\n",
      "            VALUE_DATE  ...        CASHFLOW_DATE COUPON_IR  \\\n",
      "0  2021-08-05 00:00:00  ...  2023-08-05 00:00:00       0.6   \n",
      "\n",
      "                               PARAM_NAME ISSUE_TYPE EXECUTE_REASON_SH  \\\n",
      "0  交易所系统网上向原A股无限售股东优先配售,交易所系统网上向社会公众投资者发行        4,1                 6   \n",
      "\n",
      "  PAYDAYNEW  CURRENT_BOND_PRICENEW  IS_CONVERT_STOCK IS_REDEEM  IS_SELLBACK  \n",
      "0       -05                   None                 是         是            是  \n",
      "\n",
      "[1 rows x 70 columns]\n"
     ]
    }
   ],
   "source": [
    "import akshare as ak\n",
    "\n",
    "bond_zh_cov_info_df = ak.bond_zh_cov_info(symbol=\"123121\", indicator=\"基本信息\")\n",
    "print(bond_zh_cov_info_df)"
   ]
  },
  {
   "cell_type": "code",
   "execution_count": 11,
   "id": "c89137bc",
   "metadata": {
    "ExecuteTime": {
     "end_time": "2023-06-26T15:20:17.729923Z",
     "start_time": "2023-06-26T15:20:17.706977Z"
    }
   },
   "outputs": [
    {
     "ename": "AttributeError",
     "evalue": "module 'akshare' has no attribute 'bond_zh_cov_info_ths'",
     "output_type": "error",
     "traceback": [
      "\u001b[1;31m---------------------------------------------------------------------------\u001b[0m",
      "\u001b[1;31mAttributeError\u001b[0m                            Traceback (most recent call last)",
      "Cell \u001b[1;32mIn[11], line 3\u001b[0m\n\u001b[0;32m      1\u001b[0m \u001b[38;5;28;01mimport\u001b[39;00m \u001b[38;5;21;01makshare\u001b[39;00m \u001b[38;5;28;01mas\u001b[39;00m \u001b[38;5;21;01mak\u001b[39;00m\n\u001b[1;32m----> 3\u001b[0m bond_zh_cov_info_ths_df \u001b[38;5;241m=\u001b[39m \u001b[43mak\u001b[49m\u001b[38;5;241;43m.\u001b[39;49m\u001b[43mbond_zh_cov_info_ths\u001b[49m()\n\u001b[0;32m      4\u001b[0m \u001b[38;5;28mprint\u001b[39m(bond_zh_cov_info_ths_df)\n",
      "\u001b[1;31mAttributeError\u001b[0m: module 'akshare' has no attribute 'bond_zh_cov_info_ths'"
     ]
    }
   ],
   "source": [
    "import akshare as ak\n",
    "\n",
    "bond_zh_cov_info_ths_df = ak.bond_zh_cov_info_ths()\n",
    "print(bond_zh_cov_info_ths_df)"
   ]
  },
  {
   "cell_type": "code",
   "execution_count": 1,
   "id": "b635a08c",
   "metadata": {
    "ExecuteTime": {
     "end_time": "2023-07-07T02:30:24.946861Z",
     "start_time": "2023-07-07T02:30:21.134964Z"
    }
   },
   "outputs": [
    {
     "name": "stdout",
     "output_type": "stream",
     "text": [
      "      序号    转债代码   转债名称    转债最新价 转债涨跌幅    正股代码  正股名称  正股最新价 正股涨跌幅    转股价  \\\n",
      "0      1  113671   武进转债        -     -  603878  武进不锈   8.53 -0.23   8.55   \n",
      "1      2  118037   上声转债        -     -  688533  上声电子  50.35  1.55  47.85   \n",
      "2      3  111015   东亚转债        -     -  605177  东亚药业   25.6  0.31  24.95   \n",
      "3      4  127088   赫达转债        -     -  002810  山东赫达  18.45  0.05  17.40   \n",
      "4      5  123203  明电转02        -     -  300739  明阳电路  14.71 -2.06  14.75   \n",
      "..   ...     ...    ...      ...   ...     ...   ...    ...   ...    ...   \n",
      "506  507  128025   特一转债  187.315  0.15  002728  特一药业  14.96  0.27   8.93   \n",
      "507  508  128023   亚太转债   115.88 -0.86  002284  亚太股份  10.03 -2.62  10.24   \n",
      "508  509  128021   兄弟转债  110.801  0.09  002562  兄弟科技   4.25  0.24   5.09   \n",
      "509  510  123002   国祯转债  108.166  0.21  300388  节能国祯   6.69   0.3   8.06   \n",
      "510  511  128017   金禾转债  122.769 -0.76  002597  金禾实业  22.09 -2.64  20.54   \n",
      "\n",
      "         转股价值  转股溢价率  纯债溢价率  回售触发价  强赎触发价  到期赎回价      纯债价值     开始转股日  \\\n",
      "0     99.7661   0.23   0.00   5.99  11.12  110.0         -  20240115   \n",
      "1    105.2247  -4.97   0.00   33.5  62.21  111.0         -  20240112   \n",
      "2    102.6052  -2.54   0.00  17.47  32.44  115.0         -  20240112   \n",
      "3    106.0345  -5.69  19.56  12.18  22.62  115.0   83.6423  20240108   \n",
      "4     99.7288   0.27   0.00  10.33  19.18  118.0         -  20240108   \n",
      "..        ...    ...    ...    ...    ...    ...       ...       ...   \n",
      "506  167.5252  11.81  80.22   6.25  11.61  106.0  103.9371  20180612   \n",
      "507   97.9492  18.31   8.34   7.17  13.31  108.0  106.9614  20180608   \n",
      "508   83.4971  32.70   5.50   3.56   6.62  106.0   105.023  20180604   \n",
      "509   83.0025  30.32   2.97   5.64  10.48  106.0  105.0433  20180530   \n",
      "510  107.5463  14.15  16.69  14.38  26.70  106.0  105.2116  20180807   \n",
      "\n",
      "         上市日期      申购日期  \n",
      "0           -  20230710  \n",
      "1           -  20230706  \n",
      "2           -  20230706  \n",
      "3           -  20230703  \n",
      "4           -  20230703  \n",
      "..        ...       ...  \n",
      "506  20171228  20171206  \n",
      "507  20171226  20171204  \n",
      "508  20171227  20171128  \n",
      "509  20171225  20171124  \n",
      "510  20171127  20171101  \n",
      "\n",
      "[511 rows x 20 columns]\n"
     ]
    }
   ],
   "source": [
    "import akshare as ak\n",
    "\n",
    "bond_cov_comparison_df = ak.bond_cov_comparison()\n",
    "print(bond_cov_comparison_df)"
   ]
  }
 ],
 "metadata": {
  "kernelspec": {
   "display_name": "venv_tbploting",
   "language": "python",
   "name": "venv_tbploting"
  },
  "language_info": {
   "codemirror_mode": {
    "name": "ipython",
    "version": 3
   },
   "file_extension": ".py",
   "mimetype": "text/x-python",
   "name": "python",
   "nbconvert_exporter": "python",
   "pygments_lexer": "ipython3",
   "version": "3.10.10"
  },
  "toc": {
   "base_numbering": 1,
   "nav_menu": {},
   "number_sections": true,
   "sideBar": true,
   "skip_h1_title": false,
   "title_cell": "Table of Contents",
   "title_sidebar": "Contents",
   "toc_cell": false,
   "toc_position": {},
   "toc_section_display": true,
   "toc_window_display": false
  }
 },
 "nbformat": 4,
 "nbformat_minor": 5
}
